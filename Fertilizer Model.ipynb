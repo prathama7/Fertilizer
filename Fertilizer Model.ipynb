{
 "cells": [
  {
   "cell_type": "code",
   "execution_count": 1,
   "id": "10c47584",
   "metadata": {},
   "outputs": [
    {
     "name": "stderr",
     "output_type": "stream",
     "text": [
      "C:\\Users\\USER\\anaconda3\\Lib\\site-packages\\pandas\\core\\arrays\\masked.py:60: UserWarning: Pandas requires version '1.3.6' or newer of 'bottleneck' (version '1.3.5' currently installed).\n",
      "  from pandas.core import (\n"
     ]
    }
   ],
   "source": [
    "import pandas as pd # for data manipulation and analysis\n",
    "import collections # for creating and manipulating Python's collections like OrderedDict, defaultdict, Counter, etc.\n",
    "import numpy as np # for scientific computing with Python\n",
    "import matplotlib.pyplot as plt # for data visualization\n",
    "%matplotlib inline\n",
    "import seaborn as sns # for advanced visualization\n"
   ]
  },
  {
   "cell_type": "code",
   "execution_count": 24,
   "id": "bf2b43f3",
   "metadata": {},
   "outputs": [],
   "source": [
    "from sklearn import svm\n",
    "from sklearn import metrics\n",
    "from sklearn.metrics import accuracy_score\n",
    "from sklearn.metrics import mean_squared_error\n",
    "from sklearn.model_selection import train_test_split\n",
    "from sklearn.tree import DecisionTreeClassifier, plot_tree # for implementing decision tree algorithm\n",
    "from sklearn.ensemble import RandomForestClassifier # for implementing random forest algorithm\n",
    "from sklearn.neighbors import KNeighborsClassifier # for implementing K-Nearest Neighbors (KNN)  algorithm\n"
   ]
  },
  {
   "cell_type": "code",
   "execution_count": 3,
   "id": "b7f7aa6a",
   "metadata": {},
   "outputs": [],
   "source": [
    "#Importing our required dataset\n",
    "df = pd.read_csv(\"Fertilizer Prediction.csv\")"
   ]
  },
  {
   "cell_type": "code",
   "execution_count": 34,
   "id": "55d80d5c",
   "metadata": {},
   "outputs": [
    {
     "data": {
      "text/plain": [
       "Index(['Temparature', 'Humidity ', 'Moisture', 'Soil Type', 'Crop Type',\n",
       "       'Nitrogen', 'Potassium', 'Phosphorous', 'Fertilizer Name'],\n",
       "      dtype='object')"
      ]
     },
     "execution_count": 34,
     "metadata": {},
     "output_type": "execute_result"
    }
   ],
   "source": [
    "#Printing out all of our features\n",
    "df.columns\n"
   ]
  },
  {
   "cell_type": "code",
   "execution_count": 35,
   "id": "a9afe464",
   "metadata": {},
   "outputs": [],
   "source": [
    "#Converting unique objects  into integers\n",
    "from sklearn.preprocessing import LabelEncoder\n",
    "\n",
    "label_encoder = LabelEncoder()\n",
    "\n",
    "df['Soil Type'] = label_encoder.fit_transform(df['Soil Type'])\n",
    "df['Crop Type'] = label_encoder.fit_transform(df['Crop Type'])\n",
    "df['Fertilizer Name'] = label_encoder.fit_transform(df['Fertilizer Name'])"
   ]
  },
  {
   "cell_type": "code",
   "execution_count": 15,
   "id": "c96c600b",
   "metadata": {},
   "outputs": [],
   "source": [
    "y = df['Fertilizer Name']"
   ]
  },
  {
   "cell_type": "code",
   "execution_count": 16,
   "id": "d3458612",
   "metadata": {},
   "outputs": [
    {
     "data": {
      "text/plain": [
       "0     6\n",
       "1     5\n",
       "2     1\n",
       "3     4\n",
       "4     6\n",
       "     ..\n",
       "94    4\n",
       "95    0\n",
       "96    6\n",
       "97    5\n",
       "98    3\n",
       "Name: Fertilizer Name, Length: 99, dtype: int32"
      ]
     },
     "execution_count": 16,
     "metadata": {},
     "output_type": "execute_result"
    }
   ],
   "source": [
    "y"
   ]
  },
  {
   "cell_type": "code",
   "execution_count": 17,
   "id": "c7b1b8d0",
   "metadata": {},
   "outputs": [],
   "source": [
    "X = df[['Temparature', 'Humidity ', 'Moisture', 'Soil Type', 'Crop Type',\n",
    "       'Nitrogen', 'Potassium', 'Phosphorous']]"
   ]
  },
  {
   "cell_type": "code",
   "execution_count": 18,
   "id": "a0d7e84f",
   "metadata": {},
   "outputs": [
    {
     "data": {
      "text/html": [
       "<div>\n",
       "<style scoped>\n",
       "    .dataframe tbody tr th:only-of-type {\n",
       "        vertical-align: middle;\n",
       "    }\n",
       "\n",
       "    .dataframe tbody tr th {\n",
       "        vertical-align: top;\n",
       "    }\n",
       "\n",
       "    .dataframe thead th {\n",
       "        text-align: right;\n",
       "    }\n",
       "</style>\n",
       "<table border=\"1\" class=\"dataframe\">\n",
       "  <thead>\n",
       "    <tr style=\"text-align: right;\">\n",
       "      <th></th>\n",
       "      <th>Temparature</th>\n",
       "      <th>Humidity</th>\n",
       "      <th>Moisture</th>\n",
       "      <th>Soil Type</th>\n",
       "      <th>Crop Type</th>\n",
       "      <th>Nitrogen</th>\n",
       "      <th>Potassium</th>\n",
       "      <th>Phosphorous</th>\n",
       "    </tr>\n",
       "  </thead>\n",
       "  <tbody>\n",
       "    <tr>\n",
       "      <th>0</th>\n",
       "      <td>26</td>\n",
       "      <td>52</td>\n",
       "      <td>38</td>\n",
       "      <td>4</td>\n",
       "      <td>3</td>\n",
       "      <td>37</td>\n",
       "      <td>0</td>\n",
       "      <td>0</td>\n",
       "    </tr>\n",
       "    <tr>\n",
       "      <th>1</th>\n",
       "      <td>29</td>\n",
       "      <td>52</td>\n",
       "      <td>45</td>\n",
       "      <td>2</td>\n",
       "      <td>8</td>\n",
       "      <td>12</td>\n",
       "      <td>0</td>\n",
       "      <td>36</td>\n",
       "    </tr>\n",
       "    <tr>\n",
       "      <th>2</th>\n",
       "      <td>34</td>\n",
       "      <td>65</td>\n",
       "      <td>62</td>\n",
       "      <td>0</td>\n",
       "      <td>1</td>\n",
       "      <td>7</td>\n",
       "      <td>9</td>\n",
       "      <td>30</td>\n",
       "    </tr>\n",
       "    <tr>\n",
       "      <th>3</th>\n",
       "      <td>32</td>\n",
       "      <td>62</td>\n",
       "      <td>34</td>\n",
       "      <td>3</td>\n",
       "      <td>9</td>\n",
       "      <td>22</td>\n",
       "      <td>0</td>\n",
       "      <td>20</td>\n",
       "    </tr>\n",
       "    <tr>\n",
       "      <th>4</th>\n",
       "      <td>28</td>\n",
       "      <td>54</td>\n",
       "      <td>46</td>\n",
       "      <td>1</td>\n",
       "      <td>6</td>\n",
       "      <td>35</td>\n",
       "      <td>0</td>\n",
       "      <td>0</td>\n",
       "    </tr>\n",
       "    <tr>\n",
       "      <th>...</th>\n",
       "      <td>...</td>\n",
       "      <td>...</td>\n",
       "      <td>...</td>\n",
       "      <td>...</td>\n",
       "      <td>...</td>\n",
       "      <td>...</td>\n",
       "      <td>...</td>\n",
       "      <td>...</td>\n",
       "    </tr>\n",
       "    <tr>\n",
       "      <th>94</th>\n",
       "      <td>25</td>\n",
       "      <td>50</td>\n",
       "      <td>32</td>\n",
       "      <td>1</td>\n",
       "      <td>7</td>\n",
       "      <td>24</td>\n",
       "      <td>0</td>\n",
       "      <td>19</td>\n",
       "    </tr>\n",
       "    <tr>\n",
       "      <th>95</th>\n",
       "      <td>30</td>\n",
       "      <td>60</td>\n",
       "      <td>27</td>\n",
       "      <td>3</td>\n",
       "      <td>9</td>\n",
       "      <td>4</td>\n",
       "      <td>17</td>\n",
       "      <td>17</td>\n",
       "    </tr>\n",
       "    <tr>\n",
       "      <th>96</th>\n",
       "      <td>38</td>\n",
       "      <td>72</td>\n",
       "      <td>51</td>\n",
       "      <td>2</td>\n",
       "      <td>10</td>\n",
       "      <td>39</td>\n",
       "      <td>0</td>\n",
       "      <td>0</td>\n",
       "    </tr>\n",
       "    <tr>\n",
       "      <th>97</th>\n",
       "      <td>36</td>\n",
       "      <td>60</td>\n",
       "      <td>43</td>\n",
       "      <td>4</td>\n",
       "      <td>4</td>\n",
       "      <td>15</td>\n",
       "      <td>0</td>\n",
       "      <td>41</td>\n",
       "    </tr>\n",
       "    <tr>\n",
       "      <th>98</th>\n",
       "      <td>29</td>\n",
       "      <td>58</td>\n",
       "      <td>57</td>\n",
       "      <td>0</td>\n",
       "      <td>8</td>\n",
       "      <td>12</td>\n",
       "      <td>0</td>\n",
       "      <td>10</td>\n",
       "    </tr>\n",
       "  </tbody>\n",
       "</table>\n",
       "<p>99 rows × 8 columns</p>\n",
       "</div>"
      ],
      "text/plain": [
       "    Temparature  Humidity   Moisture  Soil Type  Crop Type  Nitrogen  \\\n",
       "0            26         52        38          4          3        37   \n",
       "1            29         52        45          2          8        12   \n",
       "2            34         65        62          0          1         7   \n",
       "3            32         62        34          3          9        22   \n",
       "4            28         54        46          1          6        35   \n",
       "..          ...        ...       ...        ...        ...       ...   \n",
       "94           25         50        32          1          7        24   \n",
       "95           30         60        27          3          9         4   \n",
       "96           38         72        51          2         10        39   \n",
       "97           36         60        43          4          4        15   \n",
       "98           29         58        57          0          8        12   \n",
       "\n",
       "    Potassium  Phosphorous  \n",
       "0           0            0  \n",
       "1           0           36  \n",
       "2           9           30  \n",
       "3           0           20  \n",
       "4           0            0  \n",
       "..        ...          ...  \n",
       "94          0           19  \n",
       "95         17           17  \n",
       "96          0            0  \n",
       "97          0           41  \n",
       "98          0           10  \n",
       "\n",
       "[99 rows x 8 columns]"
      ]
     },
     "execution_count": 18,
     "metadata": {},
     "output_type": "execute_result"
    }
   ],
   "source": [
    "X"
   ]
  },
  {
   "cell_type": "code",
   "execution_count": 32,
   "id": "a83cd438",
   "metadata": {},
   "outputs": [
    {
     "name": "stdout",
     "output_type": "stream",
     "text": [
      "Decision Accuracy: 1.0\n"
     ]
    },
    {
     "data": {
      "image/png": "[encoded data removed]",
      "text/plain": [
       "<Figure size 1000x600 with 1 Axes>"
      ]
     },
     "metadata": {},
     "output_type": "display_data"
    }
   ],
   "source": [
    "#Splitting the data into training and testing set\n",
    "X_train, X_test, y_train, y_test = train_test_split(X,y, test_size=0.2, random_state=42)\n",
    "\n",
    "#Creating a Decision Tree Classifier \n",
    "dt_classifier = DecisionTreeClassifier(random_state=42)\n",
    "\n",
    "#Training the model\n",
    "dt_classifier.fit(X_train,y_train)\n",
    "\n",
    "#Making predictions on the test set\n",
    "predictions = dt_classifier.predict(X_test)\n",
    "\n",
    "#Calculating the accuracy\n",
    "accuracy = accuracy_score(y_test, predictions)\n",
    "print(\"Decision Accuracy:\",accuracy)\n",
    "\n",
    "#PLotting the decision tree\n",
    "plt.figure(figsize=(10,6))\n",
    "plot_tree(dt_classifier)\n",
    "plt.show()\n"
   ]
  },
  {
   "cell_type": "code",
   "execution_count": 21,
   "id": "09a30392",
   "metadata": {},
   "outputs": [
    {
     "name": "stdout",
     "output_type": "stream",
     "text": [
      "KNN Accuracy: 0.9\n"
     ]
    }
   ],
   "source": [
    "#Creating a KNN classifier with k=3\n",
    "knn_classifier = KNeighborsClassifier(n_neighbors=3)\n",
    "\n",
    "#Training the model\n",
    "knn_classifier.fit(X_train, y_train)\n",
    "\n",
    "#Making the predictions on test set\n",
    "predictions = knn_classifier.predict(X_test)\n",
    "\n",
    "#Calculating the accuracy store\n",
    "accuracy = accuracy_score(y_test, predictions)\n",
    "print(\"KNN Accuracy:\", accuracy)"
   ]
  },
  {
   "cell_type": "code",
   "execution_count": 22,
   "id": "0556b1fb",
   "metadata": {},
   "outputs": [
    {
     "name": "stdout",
     "output_type": "stream",
     "text": [
      "Naive Bayes Accuracy: 1.0\n"
     ]
    }
   ],
   "source": [
    "from sklearn.naive_bayes import GaussianNB\n",
    "\n",
    "#Creating a Gaussian Naive Bayes classifier\n",
    "gnb = GaussianNB()\n",
    "\n",
    "#Training the model\n",
    "gnb.fit(X_train, y_train)\n",
    "\n",
    "#Making predictions on the test set\n",
    "predictions = gnb.predict(X_test)\n",
    "\n",
    "#Calculating accuracy score\n",
    "accuracy = accuracy_score(y_test, predictions)\n",
    "print(\"Naive Bayes Accuracy:\", accuracy)"
   ]
  },
  {
   "cell_type": "code",
   "execution_count": 31,
   "id": "f417d84b",
   "metadata": {},
   "outputs": [
    {
     "name": "stdout",
     "output_type": "stream",
     "text": [
      "              precision    recall  f1-score   support\n",
      "\n",
      "           0       1.00      0.50      0.67         2\n",
      "           1       1.00      1.00      1.00         1\n",
      "           2       0.00      0.00      0.00         0\n",
      "           3       1.00      1.00      1.00         1\n",
      "           4       1.00      1.00      1.00         5\n",
      "           5       1.00      1.00      1.00         5\n",
      "           6       1.00      1.00      1.00         6\n",
      "\n",
      "    accuracy                           0.95        20\n",
      "   macro avg       0.86      0.79      0.81        20\n",
      "weighted avg       1.00      0.95      0.97        20\n",
      "\n",
      "Accuracy: 0.95000\n",
      "Precision: 1.00000\n",
      "Recall: 0.95000\n",
      "F1: 0.96667\n"
     ]
    },
    {
     "name": "stderr",
     "output_type": "stream",
     "text": [
      "C:\\Users\\USER\\anaconda3\\Lib\\site-packages\\sklearn\\metrics\\_classification.py:1469: UndefinedMetricWarning: Recall and F-score are ill-defined and being set to 0.0 in labels with no true samples. Use `zero_division` parameter to control this behavior.\n",
      "  _warn_prf(average, modifier, msg_start, len(result))\n",
      "C:\\Users\\USER\\anaconda3\\Lib\\site-packages\\sklearn\\metrics\\_classification.py:1469: UndefinedMetricWarning: Recall and F-score are ill-defined and being set to 0.0 in labels with no true samples. Use `zero_division` parameter to control this behavior.\n",
      "  _warn_prf(average, modifier, msg_start, len(result))\n",
      "C:\\Users\\USER\\anaconda3\\Lib\\site-packages\\sklearn\\metrics\\_classification.py:1469: UndefinedMetricWarning: Recall and F-score are ill-defined and being set to 0.0 in labels with no true samples. Use `zero_division` parameter to control this behavior.\n",
      "  _warn_prf(average, modifier, msg_start, len(result))\n",
      "C:\\Users\\USER\\anaconda3\\Lib\\site-packages\\sklearn\\metrics\\_classification.py:1469: UndefinedMetricWarning: Recall is ill-defined and being set to 0.0 in labels with no true samples. Use `zero_division` parameter to control this behavior.\n",
      "  _warn_prf(average, modifier, msg_start, len(result))\n"
     ]
    }
   ],
   "source": [
    "# Random Forest model training\n",
    "random_forest = RandomForestClassifier()\n",
    "random_forest.fit(X_train, y_train)\n",
    "\n",
    "# Predicting from the test set\n",
    "y_pred = random_forest.predict(X_test)\n",
    "\n",
    "# Model evaluation\n",
    "print(metrics.classification_report(y_test, y_pred))\n",
    "print('Accuracy: {0:0.5f}'.format(metrics.accuracy_score(y_test, y_pred)))\n",
    "print('Precision: {0:0.5f}'.format(metrics.precision_score(y_test, y_pred, average='weighted')))\n",
    "print('Recall: {0:0.5f}'.format(metrics.recall_score(y_test, y_pred, average='weighted')))\n",
    "print('F1: {0:0.5f}'.format(metrics.f1_score(y_test, y_pred, average='weighted')))"
   ]
  },
  {
   "cell_type": "code",
   "execution_count": null,
   "id": "c29924e3",
   "metadata": {},
   "outputs": [],
   "source": []
  }
 ],
 "metadata": {
  "kernelspec": {
   "display_name": "Python 3 (ipykernel)",
   "language": "python",
   "name": "python3"
  },
  "language_info": {
   "codemirror_mode": {
    "name": "ipython",
    "version": 3
   },
   "file_extension": ".py",
   "mimetype": "text/x-python",
   "name": "python",
   "nbconvert_exporter": "python",
   "pygments_lexer": "ipython3",
   "version": "3.11.5"
  }
 },
 "nbformat": 4,
 "nbformat_minor": 5
}
